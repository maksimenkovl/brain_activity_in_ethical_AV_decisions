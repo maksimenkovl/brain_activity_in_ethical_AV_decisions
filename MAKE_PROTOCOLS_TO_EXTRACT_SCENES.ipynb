{
 "cells": [
  {
   "cell_type": "code",
   "execution_count": 2,
   "id": "a7b877c3",
   "metadata": {},
   "outputs": [],
   "source": [
    "import pandas as pd\n",
    "import numpy as np"
   ]
  },
  {
   "cell_type": "markdown",
   "id": "93d4f067",
   "metadata": {},
   "source": [
    "This script downloads the file containing trigger data, which includes the moments each scene starts, the type of each scene, and when the button was pressed. Some triggers may fail due to unexpected technical issues; in these instances, we assign zero to these particular events. Additionally, if subjects do not press the button, we also assign zero to these cases.\n",
    "\n",
    "Using this trigger data, we perform the following steps:\n",
    "\n",
    "1) Remove all events where the scene start trigger failed.\n",
    "2) Remove all events where the button trigger did not work.\n",
    "3) Remove control scenes where the age and gender of the pedestrians remain the same on both sides.\n",
    "4) Calculate the response time for each scene.\n",
    "5) Separate picture-based scenes from video-based scenes.\n",
    "6) Remove all scenes with abnormally long or short response times using the 95% confidence interval.\n",
    "7) Create protocols for each subject containing the moments when the scene starts and when the button is pressed.\n",
    "8) Create protocols for each subject containing the information about the trial to extract from EEG data"
   ]
  },
  {
   "cell_type": "markdown",
   "id": "731414e4",
   "metadata": {},
   "source": [
    "# Download file with trigger data"
   ]
  },
  {
   "cell_type": "code",
   "execution_count": 3,
   "id": "02622030",
   "metadata": {},
   "outputs": [],
   "source": [
    "data1=pd.read_csv('TRIGGERS.csv')\n",
    "data1 = data1[(data1['SS Latency']> 1)].copy()              # remove scenes where the scene-start (SS) event is not correctly determined \n",
    "data1 = data1[(data1['BP Latency']> 1)].copy()              # remove scenes where the button-press (BP) event is not correctly determined\n",
    "data1 = data1[(data1['Type']!= 'control')].copy()           # remove control scenes\n",
    "data1['RT']=(data1['BP Latency']-data1['SS Latency'])/300   # add response time to each scene"
   ]
  },
  {
   "cell_type": "markdown",
   "id": "23fca3b5",
   "metadata": {},
   "source": [
    "# Check RT for Picture-based scenes"
   ]
  },
  {
   "cell_type": "code",
   "execution_count": 4,
   "id": "2f02b50b",
   "metadata": {},
   "outputs": [
    {
     "name": "stdout",
     "output_type": "stream",
     "text": [
      "1090\n",
      "median RT= 3.581666666666667\n",
      "25% RT= 2.65\n",
      "75% RT= 5.13\n"
     ]
    }
   ],
   "source": [
    "d=data1[data1['Scene type']=='Text']\n",
    "d=d[(d['RT']> 0)].copy()\n",
    "\n",
    "\n",
    "q_low = d['RT'].quantile(0.05)\n",
    "q_hi  = d['RT'].quantile(0.95)\n",
    "d_text = d[(d['RT'] < q_hi) & (d['RT'] > q_low)] # remove very long and very short RTs\n",
    "\n",
    "\n",
    "print(len(d_text['RT']))\n",
    "print('median RT=',np.median(d_text['RT']))\n",
    "print('25% RT=',np.percentile(d_text['RT'], 25))\n",
    "print('75% RT=',np.percentile(d_text['RT'], 75))"
   ]
  },
  {
   "cell_type": "markdown",
   "id": "9e218d9f",
   "metadata": {},
   "source": [
    "# Check RT for Video-based scenes"
   ]
  },
  {
   "cell_type": "code",
   "execution_count": 6,
   "id": "01e3eb1d",
   "metadata": {},
   "outputs": [
    {
     "name": "stdout",
     "output_type": "stream",
     "text": [
      "951\n",
      "median RT= 4.29\n",
      "25% RT= 3.1950000000000003\n",
      "75% RT= 5.31\n"
     ]
    }
   ],
   "source": [
    "d=data1[data1['Scene type']=='Video']\n",
    "d=d[(d['RT']> 0)].copy()\n",
    "\n",
    "q_low = d['RT'].quantile(0.01)\n",
    "q_hi  = d['RT'].quantile(0.99)\n",
    "d_video = d[(d['RT'] < q_hi) & (d['RT'] > q_low)] # remove very long and very short RTs\n",
    "\n",
    "print(len(d_video['RT']))\n",
    "print('median RT=',np.median(d_video['RT']))\n",
    "print('25% RT=',np.percentile(d_video['RT'], 25))\n",
    "print('75% RT=',np.percentile(d_video['RT'], 75))"
   ]
  },
  {
   "cell_type": "markdown",
   "id": "bcc3e0e0",
   "metadata": {},
   "source": [
    "# Make Video Protocols with RT for each subject"
   ]
  },
  {
   "cell_type": "code",
   "execution_count": 7,
   "id": "9661fe67",
   "metadata": {},
   "outputs": [],
   "source": [
    "for participant in d_video['participant'].unique():\n",
    "    protocol=d_video[d_video['participant']==participant][['SS Latency']]\n",
    "    protocol['BP Latency']=d_video[d_video['participant']==participant][['BP Latency']]\n",
    "    protocol['Type']=d_video[d_video['participant']==participant][['Type']]\n",
    "    protocol.reset_index(drop=True, inplace=True)\n",
    "    filename_SS='RT_protocol_'+str(participant)+'_'+'Video'+'.xlsx'\n",
    "    protocol.to_excel(filename_SS,index=False)"
   ]
  },
  {
   "cell_type": "markdown",
   "id": "b3b8190d",
   "metadata": {},
   "source": [
    "# Make Video Protocols to extract EEG epochs for each subject"
   ]
  },
  {
   "cell_type": "code",
   "execution_count": 9,
   "id": "70b3e4a3",
   "metadata": {},
   "outputs": [],
   "source": [
    "for participant in d_video['participant'].unique():\n",
    "    protocol=d_video[d_video['participant']==participant][['SS Latency']]-1200 #left boundary 4s before scene starts\n",
    "    protocol['SS Latency2']=protocol['SS Latency']+10*300+1200 #right boundary - 14s after scene start\n",
    "    protocol['Shift']=0\n",
    "    protocol.reset_index(drop=True, inplace=True)\n",
    "    filename_SS='protocol_'+str(participant)+'_'+'Video'+'.xlsx'\n",
    "    protocol.to_excel(filename_SS,index=False)"
   ]
  },
  {
   "cell_type": "markdown",
   "id": "315e4194",
   "metadata": {},
   "source": [
    "# Make Text Protocols with RT for each subject"
   ]
  },
  {
   "cell_type": "code",
   "execution_count": 10,
   "id": "9f9d5800",
   "metadata": {},
   "outputs": [],
   "source": [
    "for participant in d_text['participant'].unique():\n",
    "    protocol=d_text[d_text['participant']==participant][['SS Latency']]\n",
    "    protocol['BP Latency']=d_text[d_text['participant']==participant][['BP Latency']]\n",
    "    protocol['Type']=d_text[d_text['participant']==participant][['Type']]\n",
    "    protocol.reset_index(drop=True, inplace=True)\n",
    "    filename_SS='RT_protocol_'+str(participant)+'_'+'Text'+'.xlsx'\n",
    "    protocol.to_excel(filename_SS,index=False)"
   ]
  },
  {
   "cell_type": "markdown",
   "id": "68994b87",
   "metadata": {},
   "source": [
    "# Make Text Protocols to extract EEG epochs for each subject"
   ]
  },
  {
   "cell_type": "code",
   "execution_count": 11,
   "id": "e5283f32",
   "metadata": {},
   "outputs": [],
   "source": [
    "for participant in d_text['participant'].unique():\n",
    "    protocol=d_text[d_text['participant']==participant][['SS Latency']]-1200 #left boundary 4s before scene starts\n",
    "    protocol['SS Latency2']=protocol['SS Latency']+10*300+1200 #right boundary - 14s after scene start\n",
    "    protocol['Shift']=0\n",
    "    protocol.reset_index(drop=True, inplace=True)\n",
    "    filename_SS='protocol_'+str(participant)+'_'+'Text'+'.xlsx'\n",
    "    protocol.to_excel(filename_SS,index=False)"
   ]
  },
  {
   "cell_type": "code",
   "execution_count": null,
   "id": "522139d1",
   "metadata": {},
   "outputs": [],
   "source": []
  }
 ],
 "metadata": {
  "kernelspec": {
   "display_name": "Python 3 (ipykernel)",
   "language": "python",
   "name": "python3"
  },
  "language_info": {
   "codemirror_mode": {
    "name": "ipython",
    "version": 3
   },
   "file_extension": ".py",
   "mimetype": "text/x-python",
   "name": "python",
   "nbconvert_exporter": "python",
   "pygments_lexer": "ipython3",
   "version": "3.10.9"
  },
  "varInspector": {
   "cols": {
    "lenName": 16,
    "lenType": 16,
    "lenVar": 40
   },
   "kernels_config": {
    "python": {
     "delete_cmd_postfix": "",
     "delete_cmd_prefix": "del ",
     "library": "var_list.py",
     "varRefreshCmd": "print(var_dic_list())"
    },
    "r": {
     "delete_cmd_postfix": ") ",
     "delete_cmd_prefix": "rm(",
     "library": "var_list.r",
     "varRefreshCmd": "cat(var_dic_list()) "
    }
   },
   "types_to_exclude": [
    "module",
    "function",
    "builtin_function_or_method",
    "instance",
    "_Feature"
   ],
   "window_display": false
  }
 },
 "nbformat": 4,
 "nbformat_minor": 5
}
